{
 "cells": [
  {
   "cell_type": "code",
   "id": "75be0510-5c37-40b2-84ab-570eba7dab6a",
   "metadata": {
    "ExecuteTime": {
     "end_time": "2025-05-17T07:37:33.305079Z",
     "start_time": "2025-05-17T07:37:33.299918Z"
    }
   },
   "source": "print('hello world')",
   "outputs": [
    {
     "name": "stdout",
     "output_type": "stream",
     "text": [
      "hello world\n"
     ]
    }
   ],
   "execution_count": 3
  },
  {
   "metadata": {},
   "cell_type": "code",
   "outputs": [],
   "execution_count": null,
   "source": "",
   "id": "c4cb57a6a4ea83f9"
  }
 ],
 "metadata": {
  "kernelspec": {
   "display_name": "Python 3 (ipykernel)",
   "language": "python",
   "name": "python3"
  },
  "language_info": {
   "codemirror_mode": {
    "name": "ipython",
    "version": 3
   },
   "file_extension": ".py",
   "mimetype": "text/x-python",
   "name": "python",
   "nbconvert_exporter": "python",
   "pygments_lexer": "ipython3",
   "version": "3.9.13"
  }
 },
 "nbformat": 4,
 "nbformat_minor": 5
}
